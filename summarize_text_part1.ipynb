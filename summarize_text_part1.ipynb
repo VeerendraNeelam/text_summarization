{
 "cells": [
  {
   "cell_type": "code",
   "execution_count": 1,
   "id": "9123ceee",
   "metadata": {},
   "outputs": [],
   "source": [
    "import pandas as pd"
   ]
  },
  {
   "cell_type": "code",
   "execution_count": 2,
   "id": "b0d01e97",
   "metadata": {},
   "outputs": [],
   "source": [
    "content = ''\n",
    "with open('trump.txt',\"r\") as f:\n",
    "    content = f.read()\n"
   ]
  },
  {
   "cell_type": "code",
   "execution_count": 3,
   "id": "820b6519",
   "metadata": {},
   "outputs": [
    {
     "data": {
      "text/plain": [
       "'WASHINGTON - The Trump administration has ordered the military to start withdrawing roughly 7,000 troops from Afghanistan in the coming months, two defense officials said Thursday, an abrupt shift in the 17-year-old war there and a decision that stunned Afghan officials, who said they had not been briefed on the plans.President Trump made the decision to pull the troops - about half the number the United States has in Afghanistan now - at the same time he decided to pull American forces out of Syria, one official said.The announcement came hours after Jim Mattis, the secretary of defense, said that he would resign from his position at the end of February after disagreeing with the president over his approach to policy in the Middle East.The whirlwind of troop withdrawals and the resignation of Mr. Mattis leave a murky picture for what is next in the United Statesâ€™ longest war, and they come as Afghanistan has been troubled by spasms of violence afflicting the capital, Kabul, and other important areas. The United States has also been conducting talks with representatives of the Taliban, in what officials have described as discussions that could lead to formal talks to end the conflict.Senior Afghan officials and Western diplomats in Kabul woke up to the shock of the news on Friday morning, and many of them braced for chaos ahead. Several Afghan officials, often in the loop on security planning and decision-making, said they had received no indication in recent days that the Americans would pull troops out. The fear that Mr. Trump might take impulsive actions, however, often loomed in the background of discussions with the United States, they said.They saw the abrupt decision as a further sign that voices from the ground were lacking in the debate over the war and that with Mr. Mattisâ€™s resignation, Afghanistan had lost one of the last influential voices in Washington who channeled the reality of the conflict into the White Houseâ€™s deliberations.The president long campaigned on bringing troops home, but in 2017, at the request of Mr. Mattis, he begrudgingly pledged an additional 4,000 troops to the Afghan campaign to try to hasten an end to the conflict.Though Pentagon officials have said the influx of forces - coupled with a more aggressive air campaign - was helping the war effort, Afghan forces continued to take nearly unsustainable levels of casualties and lose ground to the Taliban.The renewed American effort in 2017 was the first step in ensuring Afghan forces could become more independent without a set timeline for a withdrawal. But with plans to quickly reduce the number of American troops in the country, it is unclear if the Afghans can hold their own against an increasingly aggressive Taliban.Currently, American airstrikes are at levels not seen since the height of the war, when tens of thousands of American troops were spread throughout the country. That air support, officials say, consists mostly of propping up Afghan troops while they try to hold territory from a resurgent Taliban.'"
      ]
     },
     "execution_count": 3,
     "metadata": {},
     "output_type": "execute_result"
    }
   ],
   "source": [
    "content"
   ]
  },
  {
   "cell_type": "code",
   "execution_count": 94,
   "id": "984868ec",
   "metadata": {},
   "outputs": [],
   "source": [
    "from nltk.tokenize import word_tokenize,sent_tokenize\n",
    "from nltk.corpus import stopwords\n",
    "stop = stopwords.words('english')\n",
    "from wordcloud import WordCloud,STOPWORDS\n",
    "from nltk.stem import WordNetLemmatizer,PorterStemmer\n"
   ]
  },
  {
   "cell_type": "code",
   "execution_count": 89,
   "id": "24f6447d",
   "metadata": {},
   "outputs": [],
   "source": [
    "import string\n",
    "def Pre_processing(text):\n",
    "    lem = WordNetLemmatizer()\n",
    "    words = ' '.join(w.lower() for w in word_tokenize(text) if (w.lower() not in stop))\n",
    "    words = ' '.join(lem.lemmatize(txt) for txt in words.split(' ') if len(txt) > 2)\n",
    "#     words = ''.join(word.lower() for word in words)\n",
    "    words = ' '.join(word for word in words.split(' ') if word.isalpha())\n",
    "#     words = [''.join(c for c in s if c not in string.punctuation) for s in words if s]\n",
    "    return words"
   ]
  },
  {
   "cell_type": "code",
   "execution_count": 90,
   "id": "cafbc699",
   "metadata": {},
   "outputs": [],
   "source": [
    "processed_data = Pre_processing(content)"
   ]
  },
  {
   "cell_type": "code",
   "execution_count": 91,
   "id": "2550f113",
   "metadata": {},
   "outputs": [],
   "source": [
    "def creat_freq_table(data):\n",
    "    freq_tab = dict()\n",
    "    for text in data.split(' '):\n",
    "        if text in freq_tab.keys():\n",
    "            freq_tab[text] += 1\n",
    "        else:\n",
    "            freq_tab[text] = 1\n",
    "    return freq_tab"
   ]
  },
  {
   "cell_type": "code",
   "execution_count": 92,
   "id": "bbeeee0a",
   "metadata": {},
   "outputs": [],
   "source": [
    "term_freq = creat_freq_table(processed_data)"
   ]
  },
  {
   "cell_type": "code",
   "execution_count": 93,
   "id": "318c8bda",
   "metadata": {},
   "outputs": [
    {
     "data": {
      "text/plain": [
       "{'washington': 2,\n",
       " 'trump': 3,\n",
       " 'administration': 1,\n",
       " 'ordered': 1,\n",
       " 'military': 1,\n",
       " 'start': 1,\n",
       " 'withdrawing': 1,\n",
       " 'roughly': 1,\n",
       " 'troop': 9,\n",
       " 'afghanistan': 4,\n",
       " 'coming': 1,\n",
       " 'month': 1,\n",
       " 'two': 1,\n",
       " 'defense': 2,\n",
       " 'official': 8,\n",
       " 'said': 5,\n",
       " 'thursday': 1,\n",
       " 'abrupt': 2,\n",
       " 'shift': 1,\n",
       " 'war': 5,\n",
       " 'decision': 3,\n",
       " 'stunned': 1,\n",
       " 'afghan': 8,\n",
       " 'briefed': 1,\n",
       " 'made': 1,\n",
       " 'pull': 3,\n",
       " 'half': 1,\n",
       " 'number': 2,\n",
       " 'united': 4,\n",
       " 'state': 3,\n",
       " 'time': 1,\n",
       " 'decided': 1,\n",
       " 'american': 6,\n",
       " 'force': 4,\n",
       " 'syria': 1,\n",
       " 'one': 2,\n",
       " 'announcement': 1,\n",
       " 'came': 1,\n",
       " 'hour': 1,\n",
       " 'jim': 1,\n",
       " 'mattis': 3,\n",
       " 'secretary': 1,\n",
       " 'would': 2,\n",
       " 'resign': 1,\n",
       " 'position': 1,\n",
       " 'end': 3,\n",
       " 'february': 1,\n",
       " 'disagreeing': 1,\n",
       " 'president': 2,\n",
       " 'approach': 1,\n",
       " 'policy': 1,\n",
       " 'middle': 1,\n",
       " 'whirlwind': 1,\n",
       " 'withdrawal': 2,\n",
       " 'resignation': 2,\n",
       " 'leave': 1,\n",
       " 'murky': 1,\n",
       " 'picture': 1,\n",
       " 'next': 1,\n",
       " 'longest': 1,\n",
       " 'come': 1,\n",
       " 'troubled': 1,\n",
       " 'spasm': 1,\n",
       " 'violence': 1,\n",
       " 'afflicting': 1,\n",
       " 'capital': 1,\n",
       " 'kabul': 2,\n",
       " 'important': 1,\n",
       " 'area': 1,\n",
       " 'also': 1,\n",
       " 'conducting': 1,\n",
       " 'talk': 2,\n",
       " 'representative': 1,\n",
       " 'taliban': 2,\n",
       " 'described': 1,\n",
       " 'discussion': 2,\n",
       " 'could': 2,\n",
       " 'lead': 1,\n",
       " 'formal': 1,\n",
       " 'western': 1,\n",
       " 'diplomat': 1,\n",
       " 'woke': 1,\n",
       " 'shock': 1,\n",
       " 'news': 1,\n",
       " 'friday': 1,\n",
       " 'morning': 1,\n",
       " 'many': 1,\n",
       " 'braced': 1,\n",
       " 'chaos': 1,\n",
       " 'ahead': 1,\n",
       " 'several': 1,\n",
       " 'often': 2,\n",
       " 'loop': 1,\n",
       " 'security': 1,\n",
       " 'planning': 1,\n",
       " 'received': 1,\n",
       " 'indication': 1,\n",
       " 'recent': 1,\n",
       " 'day': 1,\n",
       " 'fear': 1,\n",
       " 'might': 1,\n",
       " 'take': 2,\n",
       " 'impulsive': 1,\n",
       " 'action': 1,\n",
       " 'however': 1,\n",
       " 'loomed': 1,\n",
       " 'background': 1,\n",
       " 'saw': 1,\n",
       " 'sign': 1,\n",
       " 'voice': 2,\n",
       " 'ground': 2,\n",
       " 'lacking': 1,\n",
       " 'debate': 1,\n",
       " 'lost': 1,\n",
       " 'last': 1,\n",
       " 'influential': 1,\n",
       " 'channeled': 1,\n",
       " 'reality': 1,\n",
       " 'conflict': 1,\n",
       " 'white': 1,\n",
       " 'long': 1,\n",
       " 'campaigned': 1,\n",
       " 'bringing': 1,\n",
       " 'home': 1,\n",
       " 'request': 1,\n",
       " 'begrudgingly': 1,\n",
       " 'pledged': 1,\n",
       " 'additional': 1,\n",
       " 'campaign': 2,\n",
       " 'try': 2,\n",
       " 'hasten': 1,\n",
       " 'pentagon': 1,\n",
       " 'influx': 1,\n",
       " 'coupled': 1,\n",
       " 'aggressive': 2,\n",
       " 'air': 2,\n",
       " 'helping': 1,\n",
       " 'effort': 2,\n",
       " 'continued': 1,\n",
       " 'nearly': 1,\n",
       " 'unsustainable': 1,\n",
       " 'level': 2,\n",
       " 'casualty': 1,\n",
       " 'lose': 1,\n",
       " 'renewed': 1,\n",
       " 'first': 1,\n",
       " 'step': 1,\n",
       " 'ensuring': 1,\n",
       " 'become': 1,\n",
       " 'independent': 1,\n",
       " 'without': 1,\n",
       " 'set': 1,\n",
       " 'timeline': 1,\n",
       " 'plan': 1,\n",
       " 'quickly': 1,\n",
       " 'reduce': 1,\n",
       " 'country': 2,\n",
       " 'unclear': 1,\n",
       " 'hold': 2,\n",
       " 'increasingly': 1,\n",
       " 'airstrikes': 1,\n",
       " 'seen': 1,\n",
       " 'since': 1,\n",
       " 'height': 1,\n",
       " 'ten': 1,\n",
       " 'thousand': 1,\n",
       " 'spread': 1,\n",
       " 'throughout': 1,\n",
       " 'support': 1,\n",
       " 'say': 1,\n",
       " 'consists': 1,\n",
       " 'mostly': 1,\n",
       " 'propping': 1,\n",
       " 'territory': 1,\n",
       " 'resurgent': 1}"
      ]
     },
     "execution_count": 93,
     "metadata": {},
     "output_type": "execute_result"
    }
   ],
   "source": [
    "term_freq"
   ]
  },
  {
   "cell_type": "code",
   "execution_count": 97,
   "id": "ab903ae6",
   "metadata": {},
   "outputs": [],
   "source": [
    "sentance_token = sent_tokenize(content)"
   ]
  },
  {
   "cell_type": "code",
   "execution_count": 98,
   "id": "281317b2",
   "metadata": {},
   "outputs": [],
   "source": [
    "def score_sentance(sentances,freq_table):\n",
    "    sentance_value = dict()\n",
    "    for sentance in sentances:\n",
    "        word_count_sentance = len(word_tokenize(sentance))\n",
    "        for wordValue in freq_table:\n",
    "            if wordValue in sentance.lower():\n",
    "                if sentance[:10] in sentance_value:\n",
    "                    sentance_value[sentance[:10]] += freq_table[wordValue]\n",
    "                else:\n",
    "                    sentance_value[sentance[:10]] = freq_table[wordValue]\n",
    "        sentance_value[sentance[:10]] = sentance_value[sentance[:10]] // word_count_sentance\n",
    "    return sentance_value"
   ]
  },
  {
   "cell_type": "code",
   "execution_count": 101,
   "id": "b6a751a6",
   "metadata": {},
   "outputs": [],
   "source": [
    "sentance_score = score_sentance(sentance_token,term_freq)"
   ]
  },
  {
   "cell_type": "code",
   "execution_count": 102,
   "id": "7831217f",
   "metadata": {},
   "outputs": [],
   "source": [
    "def avg_threshould(sentance_score):\n",
    "    sum_value = 0\n",
    "    for entry in sentance_score:\n",
    "        sum_value += sentance_score[entry]\n",
    "    avg_score = int(sum_value/len(sentance_score))\n",
    "    return avg_score"
   ]
  },
  {
   "cell_type": "code",
   "execution_count": 104,
   "id": "a3608029",
   "metadata": {},
   "outputs": [],
   "source": [
    "thresh = avg_threshould(sentance_score)"
   ]
  },
  {
   "cell_type": "code",
   "execution_count": 109,
   "id": "b3979219",
   "metadata": {},
   "outputs": [],
   "source": [
    "def generate_sum(sentance_token,sentance_score,threshould):\n",
    "    summary =''\n",
    "    line_count =0\n",
    "    for sentance in sentance_token:\n",
    "        if sentance[:10] in sentance_score and sentance_score[sentance[:10]] > threshould:\n",
    "            summary += ' '+ sentance\n",
    "            line_count +=1\n",
    "    print(line_count)\n",
    "    return summary"
   ]
  },
  {
   "cell_type": "code",
   "execution_count": 110,
   "id": "a87205b7",
   "metadata": {},
   "outputs": [
    {
     "name": "stdout",
     "output_type": "stream",
     "text": [
      "2\n"
     ]
    },
    {
     "data": {
      "text/plain": [
       "' Several Afghan officials, often in the loop on security planning and decision-making, said they had received no indication in recent days that the Americans would pull troops out. That air support, officials say, consists mostly of propping up Afghan troops while they try to hold territory from a resurgent Taliban.'"
      ]
     },
     "execution_count": 110,
     "metadata": {},
     "output_type": "execute_result"
    }
   ],
   "source": [
    "generate_sum(sentance_token,sentance_score,thresh)"
   ]
  },
  {
   "cell_type": "code",
   "execution_count": 113,
   "id": "3f51ae88",
   "metadata": {},
   "outputs": [
    {
     "name": "stdout",
     "output_type": "stream",
     "text": [
      "0\n",
      "1\n",
      "2\n",
      "3\n",
      "4\n",
      "5\n",
      "3\n",
      "7\n",
      "8\n",
      "8\n",
      "10\n",
      "3\n",
      "12\n",
      "8\n",
      "14\n",
      "3\n",
      "16\n",
      "1\n",
      "2\n",
      "19\n",
      "0\n",
      "16\n"
     ]
    }
   ],
   "source": [
    "tea1 = 'tea is good for health'\n",
    "for tea in tea1:\n",
    "    print(tea1.index(tea))"
   ]
  },
  {
   "cell_type": "code",
   "execution_count": null,
   "id": "7080bc52",
   "metadata": {},
   "outputs": [],
   "source": []
  }
 ],
 "metadata": {
  "kernelspec": {
   "display_name": "Python 3 (ipykernel)",
   "language": "python",
   "name": "python3"
  },
  "language_info": {
   "codemirror_mode": {
    "name": "ipython",
    "version": 3
   },
   "file_extension": ".py",
   "mimetype": "text/x-python",
   "name": "python",
   "nbconvert_exporter": "python",
   "pygments_lexer": "ipython3",
   "version": "3.8.13"
  }
 },
 "nbformat": 4,
 "nbformat_minor": 5
}
